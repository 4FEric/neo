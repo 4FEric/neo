{
 "cells": [
  {
   "cell_type": "markdown",
   "metadata": {
    "deletable": false,
    "editable": false,
    "run_control": {
     "frozen": true
    }
   },
   "source": [
    "# Etude de la Force de rappel d’un ressort"
   ]
  },
  {
   "cell_type": "markdown",
   "metadata": {},
   "source": [
    "Le physicien anglais Robert Hooke a montré en 1676 que la déformation élastique d’un milieu est proportionnelle à la contrainte imposée au milieu ce qui se traduit pour un ressort par la proportionnalité entre l’allongement du ressort et la force qui lui est appliquée.\n",
    "1. Mesurer la longueur à vide $L_0$ du ressort et la noter ci-dessous. REA"
   ]
  },
  {
   "cell_type": "markdown",
   "metadata": {},
   "source": [
    "$L_0$ = "
   ]
  },
  {
   "cell_type": "markdown",
   "metadata": {},
   "source": [
    "2. Suspendre au ressort les masses marquées contenues dans le tableau suivant et relever dans chaque cas la valeur de la longueur L du ressort puis consigner vos valeurs dans le tableau suivant : REA\n"
   ]
  },
  {
   "cell_type": "markdown",
   "metadata": {},
   "source": [
    "| Masse en g              | 50 | 100 | 150 | 200 |\n",
    "|-------------------------|----|-----|-----|-----|\n",
    "|Longueur du ressort en cm|    |     |     |     |"
   ]
  },
  {
   "cell_type": "markdown",
   "metadata": {},
   "source": [
    "2. Modifier le programme python suivant pour afficher la courbe représentant l'allongement $x=L-L_0$ en fonction de la valeur de la force appliquée au ressort F . REA"
   ]
  },
  {
   "cell_type": "code",
   "execution_count": 2,
   "metadata": {},
   "outputs": [
    {
     "data": {
      "image/png": "[encoded data removed]",
      "text/plain": [
       "<Figure size 432x288 with 1 Axes>"
      ]
     },
     "metadata": {
      "needs_background": "light"
     },
     "output_type": "display_data"
    }
   ],
   "source": [
    "from matplotlib import pyplot\n",
    "# longueur à vide du ressort A MODIFIER\n",
    "L0=0\n",
    "# longueurs du ressort en cm, A MODIFIER\n",
    "L=[0,0,0,0]\n",
    "# initialisation de la liste des allongements\n",
    "x=[]\n",
    "# initialisation de la liste des valeurs de la force de rappel\n",
    "force=[]\n",
    "# valeur des masses suspendues en g\n",
    "masse=[50,100,150,200]\n",
    "# boucle de calcul de la force F en N et de l'allongement x\n",
    "for i in range(len(masse)):\n",
    "  force=force+[masse[i]*0.001*10]\n",
    "  x=x+[(L[i]-L0)*1e-2]\n",
    "\n",
    "pyplot.scatter(x,force,s=20,c=\"blue\",marker=\"+\",linewidth=1,label=\"F=f(x)\")\n",
    "pyplot.xlabel(\"Allongement en m\")\n",
    "pyplot.ylabel(\"Force en N\")\n",
    "pyplot.legend()\n",
    "pyplot.title(\"Evolution de la force de rappel d'un ressort\")\n",
    "pyplot.show()"
   ]
  },
  {
   "cell_type": "code",
   "execution_count": null,
   "metadata": {},
   "outputs": [],
   "source": []
  }
 ],
 "metadata": {
  "kernelspec": {
   "display_name": "Python 3",
   "language": "python",
   "name": "python3"
  },
  "language_info": {
   "codemirror_mode": {
    "name": "ipython",
    "version": 3
   },
   "file_extension": ".py",
   "mimetype": "text/x-python",
   "name": "python",
   "nbconvert_exporter": "python",
   "pygments_lexer": "ipython3",
   "version": "3.7.6"
  }
 },
 "nbformat": 4,
 "nbformat_minor": 4
}
